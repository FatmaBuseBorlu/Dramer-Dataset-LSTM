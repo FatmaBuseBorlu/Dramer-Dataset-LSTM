{
  "nbformat": 4,
  "nbformat_minor": 0,
  "metadata": {
    "colab": {
      "provenance": [],
      "gpuType": "V28",
      "machine_shape": "hm",
      "include_colab_link": true
    },
    "kernelspec": {
      "name": "python3",
      "display_name": "Python 3"
    },
    "language_info": {
      "name": "python"
    },
    "accelerator": "TPU"
  },
  "cells": [
    {
      "cell_type": "markdown",
      "metadata": {
        "id": "view-in-github",
        "colab_type": "text"
      },
      "source": [
        "<a href=\"https://colab.research.google.com/github/FatmaBuseBorlu/Dramer-Dataset-LSTM/blob/main/LSTM.ipynb\" target=\"_parent\"><img src=\"https://colab.research.google.com/assets/colab-badge.svg\" alt=\"Open In Colab\"/></a>"
      ]
    },
    {
      "cell_type": "code",
      "execution_count": null,
      "metadata": {
        "id": "sIqkHr4R6R5D"
      },
      "outputs": [],
      "source": [
        "from IPython import get_ipython\n",
        "from IPython.display import display\n",
        "\n",
        "import numpy as np\n",
        "import torch\n",
        "import torch.nn as nn\n",
        "import torch.optim as optim\n",
        "from torch.utils.data import DataLoader, random_split,TensorDataset\n",
        "from torcheeg.datasets import DREAMERDataset\n",
        "from torcheeg import transforms\n",
        "from sklearn.metrics import accuracy_score, confusion_matrix, classification_report\n",
        "import matplotlib.pyplot as plt\n",
        "import kagglehub,os,kagglehub,random,shutil\n",
        "from torcheeg.transforms import ToTensor, BaselineRemoval, MeanStdNormalize, To2d, RandomNoise\n",
        "from imblearn.over_sampling import SMOTE"
      ]
    },
    {
      "cell_type": "code",
      "execution_count": null,
      "metadata": {
        "colab": {
          "base_uri": "https://localhost:8080/"
        },
        "id": "l9ZJkWo-6VEx",
        "outputId": "dbffe077-1fc2-44ba-ff2c-71311408dceb"
      },
      "outputs": [
        {
          "output_type": "stream",
          "name": "stdout",
          "text": [
            "Path to dataset files: /root/.cache/kagglehub/datasets/phhasian0710/dreamer/versions/1\n"
          ]
        }
      ],
      "source": [
        "# Kaggle'dan veri setini indirin\n",
        "path = kagglehub.dataset_download(\"phhasian0710/dreamer\")\n",
        "print(\"Path to dataset files:\", path)"
      ]
    },
    {
      "cell_type": "code",
      "execution_count": null,
      "metadata": {
        "colab": {
          "base_uri": "https://localhost:8080/"
        },
        "id": "svexRQMdHejc",
        "outputId": "7accf5cf-b76d-4fbf-c0c0-6a602fc0549f"
      },
      "outputs": [
        {
          "output_type": "stream",
          "name": "stdout",
          "text": [
            "DREAMER.mat dosyası bulundu!\n"
          ]
        }
      ],
      "source": [
        "import os\n",
        "\n",
        "# Veri seti yolunu kontrol edin\n",
        "dataset_dir = \"/root/.cache/kagglehub/datasets/phhasian0710/dreamer/versions/1\"\n",
        "mat_file_path = os.path.join(dataset_dir, \"DREAMER.mat\")\n",
        "\n",
        "if os.path.exists(mat_file_path):\n",
        "    print(\"DREAMER.mat dosyası bulundu!\")\n",
        "else:\n",
        "    print(\"DREAMER.mat dosyası bulunamadı! Lütfen dosyanın doğru bir şekilde indirildiğinden emin olun.\")\n"
      ]
    },
    {
      "cell_type": "code",
      "source": [
        "from torcheeg.transforms import BandPass"
      ],
      "metadata": {
        "id": "HBiHCt_nNH3W"
      },
      "execution_count": null,
      "outputs": []
    },
    {
      "cell_type": "code",
      "execution_count": null,
      "metadata": {
        "colab": {
          "base_uri": "https://localhost:8080/"
        },
        "id": "DD3Qvv9dGBrX",
        "outputId": "036ee194-10d7-4312-c2d5-8726db71e93f"
      },
      "outputs": [
        {
          "output_type": "stream",
          "name": "stderr",
          "text": [
            "[2024-12-21 20:32:16] INFO (torcheeg/MainThread) 🔍 | Detected cached processing results, reading cache from ./dreamer_rnn_data_safe1.\n",
            "INFO:torcheeg:🔍 | Detected cached processing results, reading cache from ./dreamer_rnn_data_safe1.\n"
          ]
        }
      ],
      "source": [
        "dataset = DREAMERDataset(\n",
        "    mat_path='/root/.cache/kagglehub/datasets/phhasian0710/dreamer/versions/1/DREAMER.mat',\n",
        "    io_path='./dreamer_rnn_data_safe1',\n",
        "  offline_transform = transforms.Compose([\n",
        "    transforms.BaselineRemoval(),\n",
        "    transforms.MeanStdNormalize(),\n",
        "    transforms.To2d(),\n",
        "    transforms.ToTensor(),\n",
        "    BandPass(low_cut_hz=0.5, high_cut_hz=50, sampling_rate=128),  # Yeni ekleme\n",
        "    transforms.RandomNoise(std=0.02),\n",
        "    transforms.RandomShift(max_shift=5),\n",
        "    transforms.RandomFlip(axis=2)\n",
        "]),\n",
        "    online_transform=None, # No online transformation\n",
        "    label_transform=transforms.Compose([\n",
        "        transforms.Select('valence'),\n",
        "        transforms.Binary(3.0)\n",
        "    ]),\n",
        "    chunk_size=128,\n",
        "    baseline_chunk_size=128,\n",
        "    num_baseline=61,\n",
        "    num_worker=8\n",
        ")"
      ]
    },
    {
      "cell_type": "code",
      "source": [
        "# Veri Loader için SMOTE ile Dengeleme\n",
        "data_loader = DataLoader(dataset, batch_size=len(dataset))\n",
        "inputs, labels = next(iter(data_loader))\n",
        "\n",
        "# Reshape the inputs to 2D: (samples, features)\n",
        "inputs = inputs.numpy().reshape(inputs.shape[0], -1)  # Flatten the last 3 dimensions\n",
        "\n",
        "smote = SMOTE()\n",
        "inputs_resampled, labels_resampled = smote.fit_resample(inputs, labels)\n",
        "\n",
        "balanced_dataset = TensorDataset(torch.tensor(inputs_resampled, dtype=torch.float32),\n",
        "                                 torch.tensor(labels_resampled, dtype=torch.long))"
      ],
      "metadata": {
        "colab": {
          "base_uri": "https://localhost:8080/"
        },
        "id": "yjbwr7-469vG",
        "outputId": "7dad9a32-602d-411a-c687-f3acd5033a69"
      },
      "execution_count": null,
      "outputs": [
        {
          "output_type": "stream",
          "name": "stderr",
          "text": [
            "/usr/local/lib/python3.10/dist-packages/sklearn/base.py:474: FutureWarning: `BaseEstimator._validate_data` is deprecated in 1.6 and will be removed in 1.7. Use `sklearn.utils.validation.validate_data` instead. This function becomes public and is part of the scikit-learn developer API.\n",
            "  warnings.warn(\n",
            "/usr/local/lib/python3.10/dist-packages/sklearn/utils/_tags.py:354: FutureWarning: The SMOTE or classes from which it inherits use `_get_tags` and `_more_tags`. Please define the `__sklearn_tags__` method, or inherit from `sklearn.base.BaseEstimator` and/or other appropriate mixins such as `sklearn.base.TransformerMixin`, `sklearn.base.ClassifierMixin`, `sklearn.base.RegressorMixin`, and `sklearn.base.OutlierMixin`. From scikit-learn 1.7, not defining `__sklearn_tags__` will raise an error.\n",
            "  warnings.warn(\n"
          ]
        }
      ]
    },
    {
      "cell_type": "code",
      "execution_count": null,
      "metadata": {
        "id": "G3g7uORUGIYe"
      },
      "outputs": [],
      "source": [
        "train_size = int(0.8 * len(balanced_dataset))\n",
        "test_size = len(balanced_dataset) - train_size\n",
        "train_dataset, test_dataset = random_split(balanced_dataset, [train_size, test_size])\n",
        "\n",
        "train_loader = DataLoader(train_dataset, batch_size=64, shuffle=True)\n",
        "test_loader = DataLoader(test_dataset, batch_size=64, shuffle=False)"
      ]
    },
    {
      "cell_type": "code",
      "execution_count": null,
      "metadata": {
        "id": "u2YGT4WkGM3f"
      },
      "outputs": [],
      "source": [
        "class BiLSTMWithAttention(nn.Module):\n",
        "    def __init__(self, input_size=128, hidden_size=128, num_layers=2, num_classes=2):\n",
        "        super(BiLSTMWithAttention, self).__init__()\n",
        "        self.hidden_size = hidden_size\n",
        "        self.num_layers = num_layers\n",
        "        self.bilstm = nn.LSTM(input_size, hidden_size, num_layers, batch_first=True, bidirectional=True)\n",
        "        self.attention = nn.Linear(hidden_size * 2, 1)\n",
        "        self.dropout = nn.Dropout(0.5)\n",
        "        self.fc = nn.Linear(hidden_size * 2, num_classes)\n",
        "\n",
        "    def forward(self, x):\n",
        "        # Reshape to [batch_size, seq_len, input_size]\n",
        "        x = x.reshape(x.size(0), -1, self.hidden_size)\n",
        "        # Remove the unsqueeze operation, it's not needed\n",
        "        # x = x.unsqueeze(1)\n",
        "\n",
        "        h0 = torch.zeros(self.num_layers * 2, x.size(0), self.hidden_size).to(x.device)\n",
        "        c0 = torch.zeros(self.num_layers * 2, x.size(0), self.hidden_size).to(x.device)\n",
        "        out, _ = self.bilstm(x, (h0, c0))\n",
        "        attention_weights = torch.softmax(self.attention(out), dim=1)\n",
        "        out = torch.sum(attention_weights * out, dim=1)\n",
        "        out = self.fc(self.dropout(out))\n",
        "        return out"
      ]
    },
    {
      "cell_type": "code",
      "source": [
        "# Model, Optimizasyon ve Kayıp Fonksiyonu\n",
        "device = torch.device(\"cuda\" if torch.cuda.is_available() else \"cpu\")\n",
        "model = BiLSTMWithAttention().to(device)\n",
        "criterion = nn.CrossEntropyLoss()\n",
        "optimizer = optim.AdamW(model.parameters(), lr=0.0003, weight_decay=1e-5)\n",
        "scheduler = torch.optim.lr_scheduler.ReduceLROnPlateau(optimizer, mode='min', patience=2, factor=0.5)"
      ],
      "metadata": {
        "id": "oMf9VdfqTo9u"
      },
      "execution_count": null,
      "outputs": []
    },
    {
      "cell_type": "code",
      "execution_count": null,
      "metadata": {
        "id": "ViB8K6hNb5iV"
      },
      "outputs": [],
      "source": [
        "# Eğitim ve Test Fonksiyonları\n",
        "def train_one_epoch():\n",
        "    model.train()\n",
        "    running_loss = 0.0\n",
        "    for inputs, labels in train_loader:\n",
        "        inputs, labels = inputs.to(device), labels.to(device)\n",
        "        optimizer.zero_grad()\n",
        "        outputs = model(inputs)\n",
        "        loss = criterion(outputs, labels)\n",
        "        loss.backward()\n",
        "        optimizer.step()\n",
        "        running_loss += loss.item()\n",
        "    return running_loss / len(train_loader)"
      ]
    },
    {
      "cell_type": "code",
      "execution_count": null,
      "metadata": {
        "id": "8gO4Jk9nbASa"
      },
      "outputs": [],
      "source": [
        "# Test Fonksiyonu\n",
        "def test_model():\n",
        "    model.eval()\n",
        "    running_loss, all_preds, all_labels = 0.0, [], []\n",
        "    with torch.no_grad():\n",
        "        for inputs, labels in test_loader:\n",
        "            inputs, labels = inputs.to(device), labels.to(device)\n",
        "            outputs = model(inputs)\n",
        "            loss = criterion(outputs, labels)\n",
        "            running_loss += loss.item()\n",
        "            _, preds = torch.max(outputs, 1)\n",
        "            all_preds.extend(preds.cpu().numpy())\n",
        "            all_labels.extend(labels.cpu().numpy())\n",
        "    avg_loss = running_loss / len(test_loader)\n",
        "    accuracy = accuracy_score(all_labels, all_preds)\n",
        "    return avg_loss, accuracy, all_labels, all_preds"
      ]
    },
    {
      "cell_type": "code",
      "execution_count": null,
      "metadata": {
        "id": "zl1PFTk-GNoX",
        "colab": {
          "base_uri": "https://localhost:8080/"
        },
        "outputId": "3b96d01b-da62-42fe-b365-3bd487909480"
      },
      "outputs": [
        {
          "output_type": "stream",
          "name": "stdout",
          "text": [
            "Epoch 1: Train Loss: 0.6780, Test Loss: 0.6588, Test Acc: 0.5945\n",
            "En iyi model kaydedildi!\n",
            "Epoch 2: Train Loss: 0.6373, Test Loss: 0.6205, Test Acc: 0.6315\n",
            "En iyi model kaydedildi!\n",
            "Epoch 3: Train Loss: 0.6019, Test Loss: 0.6264, Test Acc: 0.6304\n",
            "Epoch 4: Train Loss: 0.5706, Test Loss: 0.5921, Test Acc: 0.6643\n",
            "En iyi model kaydedildi!\n",
            "Epoch 5: Train Loss: 0.5456, Test Loss: 0.5906, Test Acc: 0.6729\n",
            "En iyi model kaydedildi!\n",
            "Epoch 6: Train Loss: 0.5660, Test Loss: 0.5825, Test Acc: 0.6752\n",
            "En iyi model kaydedildi!\n",
            "Epoch 7: Train Loss: 0.5419, Test Loss: 0.5775, Test Acc: 0.6798\n",
            "En iyi model kaydedildi!\n",
            "Epoch 8: Train Loss: 0.5033, Test Loss: 0.5798, Test Acc: 0.6912\n",
            "Epoch 9: Train Loss: 0.4621, Test Loss: 0.5780, Test Acc: 0.6999\n",
            "Epoch 10: Train Loss: 0.4279, Test Loss: 0.5797, Test Acc: 0.7078\n",
            "Early stopping tetiklendi!\n"
          ]
        }
      ],
      "source": [
        "# Eğitim Döngüsü\n",
        "epochs, patience = 20, 3\n",
        "best_loss, counter = float('inf'), 0\n",
        "train_losses, test_losses, test_accs = [], [], []\n",
        "\n",
        "for epoch in range(epochs):\n",
        "    train_loss = train_one_epoch()\n",
        "    test_loss, test_acc, _, _ = test_model()\n",
        "    scheduler.step()\n",
        "\n",
        "    train_losses.append(train_loss)\n",
        "    test_losses.append(test_loss)\n",
        "    test_accs.append(test_acc)\n",
        "\n",
        "    print(f\"Epoch {epoch+1}: Train Loss: {train_loss:.4f}, Test Loss: {test_loss:.4f}, Test Acc: {test_acc:.4f}\")\n",
        "    if test_loss < best_loss:\n",
        "        best_loss, counter = test_loss, 0\n",
        "        print(\"En iyi model kaydedildi!\")\n",
        "    else:\n",
        "        counter += 1\n",
        "    if counter >= patience:\n",
        "        print(\"Early stopping tetiklendi!\")\n",
        "        break"
      ]
    },
    {
      "cell_type": "code",
      "execution_count": null,
      "metadata": {
        "id": "-6cG-pJjGZE1",
        "colab": {
          "base_uri": "https://localhost:8080/"
        },
        "outputId": "d0678949-1062-4962-9e9a-fb74ac979848"
      },
      "outputs": [
        {
          "output_type": "stream",
          "name": "stdout",
          "text": [
            "Final Test Accuracy: 0.6793\n",
            "Confusion Matrix:\n",
            " [[3019 3676]\n",
            " [1824 8630]]\n",
            "Classification Report:\n",
            "               precision    recall  f1-score   support\n",
            "\n",
            "           0       0.62      0.45      0.52      6695\n",
            "           1       0.70      0.83      0.76     10454\n",
            "\n",
            "    accuracy                           0.68     17149\n",
            "   macro avg       0.66      0.64      0.64     17149\n",
            "weighted avg       0.67      0.68      0.67     17149\n",
            "\n"
          ]
        }
      ],
      "source": [
        "# Sonuçları tekrar test edip raporla\n",
        "test_loss, test_acc, all_labels, all_preds = test_model()\n",
        "print(f\"Final Test Accuracy: {test_acc:.4f}\")\n",
        "cm = confusion_matrix(all_labels, all_preds)\n",
        "print(\"Confusion Matrix:\\n\", cm)\n",
        "print(\"Classification Report:\\n\", classification_report(all_labels, all_preds))"
      ]
    },
    {
      "cell_type": "code",
      "source": [
        "def plot_results(labels, preds, train_losses, test_losses):\n",
        "    # Basitleştirilmiş grafik fonksiyonu\n",
        "    plt.figure(figsize=(12, 4))\n",
        "    plt.plot(train_losses, label='Eğitim Kaybı')\n",
        "    plt.plot(test_losses, label='Test Kaybı')\n",
        "    plt.title('Eğitim ve Test Kaybı')\n",
        "    plt.xlabel('Epoch')\n",
        "    plt.ylabel('Kayıp')\n",
        "    plt.legend()\n",
        "    plt.show()\n",
        "\n",
        "    plt.figure(figsize=(6, 6))\n",
        "    cm = confusion_matrix(labels, preds)\n",
        "    plt.imshow(cm, cmap='Blues', interpolation='nearest')\n",
        "    plt.title('Confusion Matrix')\n",
        "    plt.colorbar()\n",
        "    plt.xticks([0, 1], ['Class 0', 'Class 1'])\n",
        "    plt.yticks([0, 1], ['Class 0', 'Class 1'])\n",
        "    plt.xlabel('Predicted')\n",
        "    plt.ylabel('True')\n",
        "    plt.show()\n",
        "\n",
        "plot_results(all_labels, all_preds, train_losses, test_losses)"
      ],
      "metadata": {
        "colab": {
          "base_uri": "https://localhost:8080/",
          "height": 824
        },
        "id": "ysHkCg6hQo0I",
        "outputId": "4973fe1b-4f20-46e8-a939-485495aba8bc"
      },
      "execution_count": null,
      "outputs": [
        {
          "output_type": "display_data",
          "data": {
            "text/plain": [
              "<Figure size 1200x400 with 1 Axes>"
            ],
            "image/png": "[encoded data removed]"
          },
          "metadata": {}
        },
        {
          "output_type": "display_data",
          "data": {
            "text/plain": [
              "<Figure size 600x600 with 2 Axes>"
            ],
            "image/png": "[encoded data removed]"
          },
          "metadata": {}
        }
      ]
    }
  ]
}